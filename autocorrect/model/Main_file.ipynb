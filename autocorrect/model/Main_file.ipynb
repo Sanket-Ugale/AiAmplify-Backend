{
 "cells": [
  {
   "cell_type": "code",
   "execution_count": 2,
   "id": "c54dacdd",
   "metadata": {},
   "outputs": [
    {
     "ename": "ModuleNotFoundError",
     "evalue": "No module named 'pandas'",
     "output_type": "error",
     "traceback": [
      "\u001b[1;31m---------------------------------------------------------------------------\u001b[0m",
      "\u001b[1;31mModuleNotFoundError\u001b[0m                       Traceback (most recent call last)",
      "Cell \u001b[1;32mIn[2], line 1\u001b[0m\n\u001b[1;32m----> 1\u001b[0m \u001b[39mimport\u001b[39;00m \u001b[39mpandas\u001b[39;00m \u001b[39mas\u001b[39;00m \u001b[39mpd\u001b[39;00m\n\u001b[0;32m      2\u001b[0m \u001b[39mimport\u001b[39;00m \u001b[39mre\u001b[39;00m\n\u001b[0;32m      3\u001b[0m \u001b[39mfrom\u001b[39;00m \u001b[39msklearn\u001b[39;00m\u001b[39m.\u001b[39;00m\u001b[39mmodel_selection\u001b[39;00m \u001b[39mimport\u001b[39;00m train_test_split\n",
      "\u001b[1;31mModuleNotFoundError\u001b[0m: No module named 'pandas'"
     ]
    }
   ],
   "source": [
    "import pandas as pd\n",
    "import re\n",
    "from sklearn.model_selection import train_test_split\n",
    "from sklearn.feature_extraction.text import CountVectorizer\n",
    "from sklearn.naive_bayes import MultinomialNB\n",
    "from sklearn.metrics import accuracy_score\n",
    "from sklearn.preprocessing import LabelEncoder\n",
    "from difflib import get_close_matches\n",
    "\n",
    "# Load dataset from CSV\n",
    "data = pd.read_csv(\"dataset.csv\")\n",
    "\n",
    "# Data Cleaning: Remove any rows with missing values\n",
    "data = data.dropna(subset=[\"Mispelled\", \"Correct\"])"
   ]
  },
  {
   "cell_type": "code",
   "execution_count": 3,
   "id": "a9c2481e",
   "metadata": {},
   "outputs": [
    {
     "ename": "NameError",
     "evalue": "name 'data' is not defined",
     "output_type": "error",
     "traceback": [
      "\u001b[1;31m---------------------------------------------------------------------------\u001b[0m",
      "\u001b[1;31mNameError\u001b[0m                                 Traceback (most recent call last)",
      "Cell \u001b[1;32mIn[3], line 1\u001b[0m\n\u001b[1;32m----> 1\u001b[0m data\n",
      "\u001b[1;31mNameError\u001b[0m: name 'data' is not defined"
     ]
    }
   ],
   "source": [
    "data"
   ]
  },
  {
   "cell_type": "code",
   "execution_count": 3,
   "id": "d7181313",
   "metadata": {},
   "outputs": [
    {
     "data": {
      "text/html": [
       "<div>\n",
       "<style scoped>\n",
       "    .dataframe tbody tr th:only-of-type {\n",
       "        vertical-align: middle;\n",
       "    }\n",
       "\n",
       "    .dataframe tbody tr th {\n",
       "        vertical-align: top;\n",
       "    }\n",
       "\n",
       "    .dataframe thead th {\n",
       "        text-align: right;\n",
       "    }\n",
       "</style>\n",
       "<table border=\"1\" class=\"dataframe\">\n",
       "  <thead>\n",
       "    <tr style=\"text-align: right;\">\n",
       "      <th></th>\n",
       "      <th>Mispelled</th>\n",
       "      <th>Correct</th>\n",
       "    </tr>\n",
       "  </thead>\n",
       "  <tbody>\n",
       "    <tr>\n",
       "      <th>0</th>\n",
       "      <td>clanberry</td>\n",
       "      <td>cranberry</td>\n",
       "    </tr>\n",
       "    <tr>\n",
       "      <th>1</th>\n",
       "      <td>persimmmmon</td>\n",
       "      <td>persimmon</td>\n",
       "    </tr>\n",
       "    <tr>\n",
       "      <th>2</th>\n",
       "      <td>elterberry</td>\n",
       "      <td>elderberry</td>\n",
       "    </tr>\n",
       "    <tr>\n",
       "      <th>3</th>\n",
       "      <td>orangt</td>\n",
       "      <td>orange</td>\n",
       "    </tr>\n",
       "    <tr>\n",
       "      <th>4</th>\n",
       "      <td>blueqerry</td>\n",
       "      <td>blueberry</td>\n",
       "    </tr>\n",
       "  </tbody>\n",
       "</table>\n",
       "</div>"
      ],
      "text/plain": [
       "     Mispelled     Correct\n",
       "0    clanberry   cranberry\n",
       "1  persimmmmon   persimmon\n",
       "2   elterberry  elderberry\n",
       "3       orangt      orange\n",
       "4    blueqerry   blueberry"
      ]
     },
     "execution_count": 3,
     "metadata": {},
     "output_type": "execute_result"
    }
   ],
   "source": [
    "data.head()"
   ]
  },
  {
   "cell_type": "code",
   "execution_count": 4,
   "id": "bc70bb52",
   "metadata": {},
   "outputs": [],
   "source": [
    "# Data Preprocessing: Convert text to lowercase and remove special characters\n",
    "data[\"Mispelled\"] = data[\"Mispelled\"].apply(lambda x: re.sub(r\"[^a-zA-Z0-9\\s]\", \"\", x.lower()))\n",
    "data[\"Correct\"] = data[\"Correct\"].apply(lambda x: re.sub(r\"[^a-zA-Z0-9\\s]\", \"\", x.lower()))\n",
    "\n",
    "# Preprocess dataset and split into features (X) and labels (y)\n",
    "X = data[\"Mispelled\"]\n",
    "y = data[\"Correct\"]\n",
    "\n",
    "# Use LabelEncoder to convert text data to numeric labels\n",
    "label_encoder = LabelEncoder()\n",
    "y_encoded = label_encoder.fit_transform(y)  # Fit only once on the entire target data\n",
    "\n",
    "# Split data into training and test sets\n",
    "X_train, X_test, y_train, y_test = train_test_split(X, y_encoded, test_size=0.2, random_state=42)\n",
    "\n",
    "# Create a bag-of-words vectorizer\n",
    "vectorizer = CountVectorizer()\n",
    "\n",
    "# Transform the training data into numerical features\n",
    "X_train_vectorized = vectorizer.fit_transform(X_train.astype(str))\n",
    "\n",
    "# Transform the test data using the same vectorizer\n",
    "X_test_vectorized = vectorizer.transform(X_test.astype(str))"
   ]
  },
  {
   "cell_type": "code",
   "execution_count": 5,
   "id": "37d5da78",
   "metadata": {},
   "outputs": [
    {
     "name": "stdout",
     "output_type": "stream",
     "text": [
      "Model Accuracy: 77.53%\n"
     ]
    }
   ],
   "source": [
    "#Naive Bayes model\n",
    "model = MultinomialNB()\n",
    "model.fit(X_train_vectorized, y_train)\n",
    "\n",
    "y_pred = model.predict(X_test_vectorized)\n",
    "\n",
    "accuracy = accuracy_score(y_test, y_pred)\n",
    "print(f\"Model Accuracy: {accuracy * 100:.2f}%\")"
   ]
  },
  {
   "cell_type": "code",
   "execution_count": 6,
   "id": "ed3c12ee",
   "metadata": {},
   "outputs": [
    {
     "name": "stdout",
     "output_type": "stream",
     "text": [
      "SVM Model Accuracy: 77.81%\n"
     ]
    }
   ],
   "source": [
    "#SVC\n",
    "from sklearn.svm import SVC\n",
    "svm_model = SVC(kernel='linear', random_state=42)\n",
    "svm_model.fit(X_train_vectorized, y_train)\n",
    "y_pred_svm = svm_model.predict(X_test_vectorized)\n",
    "\n",
    "accuracy_svm = accuracy_score(y_test, y_pred_svm)\n",
    "print(f\"SVM Model Accuracy: {accuracy_svm * 100:.2f}%\")\n"
   ]
  },
  {
   "cell_type": "code",
   "execution_count": 7,
   "id": "dc060254",
   "metadata": {},
   "outputs": [
    {
     "name": "stdout",
     "output_type": "stream",
     "text": [
      "Random Forest Model Accuracy: 77.40%\n"
     ]
    }
   ],
   "source": [
    "from sklearn.ensemble import RandomForestClassifier\n",
    "\n",
    "# Train the Random Forest model\n",
    "rf_model = RandomForestClassifier(n_estimators=100, random_state=42)\n",
    "rf_model.fit(X_train_vectorized, y_train)\n",
    "\n",
    "# Make predictions on the test data\n",
    "y_pred_rf = rf_model.predict(X_test_vectorized)\n",
    "\n",
    "# Calculate accuracy for Random Forest model\n",
    "accuracy_rf = accuracy_score(y_test, y_pred_rf)\n",
    "print(f\"Random Forest Model Accuracy: {accuracy_rf * 100:.2f}%\")\n"
   ]
  },
  {
   "cell_type": "code",
   "execution_count": null,
   "id": "fab62a8c",
   "metadata": {
    "scrolled": true
   },
   "outputs": [
    {
     "name": "stdout",
     "output_type": "stream",
     "text": [
      "Enter a word to autocorrect (or 'q' to quit): grap\n",
      "Input Word: grap\n",
      "Autocorrected Word: grap\n",
      "Suggestions: ['grape', 'grape', 'grape']\n"
     ]
    }
   ],
   "source": [
    "import pandas as pd\n",
    "from sklearn.feature_extraction.text import CountVectorizer\n",
    "from sklearn.svm import SVC\n",
    "from difflib import get_close_matches\n",
    "import numpy as np\n",
    "\n",
    "# Load dataset from CSV (replace 'synthetic_autocorrect_dataset.csv' with your dataset)\n",
    "data = pd.read_csv(\"dataset.csv\")\n",
    "\n",
    "# Preprocess dataset and split into features (X) and labels (y)\n",
    "X = data[\"Mispelled\"]\n",
    "y = data[\"Correct\"]\n",
    "\n",
    "# Create a bag-of-words vectorizer\n",
    "vectorizer = CountVectorizer()\n",
    "\n",
    "# Transform the data into numerical features\n",
    "X_vectorized = vectorizer.fit_transform(X.astype(str))\n",
    "\n",
    "# Train the SVM model\n",
    "model = SVC()\n",
    "model.fit(X_vectorized, y)\n",
    "\n",
    "# Autocorrect function using pre-trained model and vectorizer\n",
    "def autocorrect(input_word, correct_words, model, vectorizer, max_suggestions=1):\n",
    "    input_word_vectorized = vectorizer.transform(np.array([input_word]))  # Reshape to 2D array\n",
    "    if not input_word_vectorized.getnnz():\n",
    "        return input_word, [\"No suggestions available.\"]\n",
    "\n",
    "    input_word_str = vectorizer.inverse_transform(input_word_vectorized)[0][0]  # Convert back to string\n",
    "    input_word_lower = input_word_str.lower()\n",
    "\n",
    "    if input_word_lower in [word.lower() for word in correct_words]:\n",
    "        return input_word_str, [\"Word is already correct.\"]\n",
    "\n",
    "    # Get close matches based on edit distance with the correct words\n",
    "    close_matches = get_close_matches(input_word_lower, [word.lower() for word in correct_words], n=max_suggestions, cutoff=0.75)\n",
    "\n",
    "    if not close_matches:\n",
    "        # If no close matches found, use the SVM model to autocorrect the word\n",
    "        corrected_word = model.predict(input_word_vectorized)[0]\n",
    "        return input_word_str, [corrected_word]\n",
    "\n",
    "    return input_word_str, close_matches[:max_suggestions]\n",
    "\n",
    "# Test the autocorrect function interactively\n",
    "while True:\n",
    "    user_input = input(\"Enter a word to autocorrect (or 'q' to quit): \")\n",
    "    if user_input.lower() == 'q':\n",
    "        break\n",
    "\n",
    "    result, suggestions = autocorrect(user_input, data[\"Correct\"].tolist(), model, vectorizer)\n",
    "\n",
    "    print(f\"Input Word: {user_input}\")\n",
    "    print(f\"Autocorrected Word: {suggestions}\")\n",
    "\n"
   ]
  },
  {
   "cell_type": "code",
   "execution_count": null,
   "id": "b2284d74",
   "metadata": {},
   "outputs": [],
   "source": [
    "# import random\n",
    "# import pandas as pd\n",
    "# import string\n",
    "\n",
    "# # Function to introduce random typos in a word\n",
    "# def introduce_typos(word):\n",
    "#     if len(word) <= 1:\n",
    "#         return word\n",
    "\n",
    "#     typo_options = [\"insert\", \"delete\", \"replace\"]\n",
    "#     typo_choice = random.choice(typo_options)\n",
    "\n",
    "#     if typo_choice == \"insert\":\n",
    "#         return word[:random.randint(0, len(word))] + random.choice(string.ascii_lowercase) + word[random.randint(0, len(word)):]\n",
    "\n",
    "#     elif typo_choice == \"delete\":\n",
    "#         idx = random.randint(0, len(word) - 1)\n",
    "#         return word[:idx] + word[idx + 1:]\n",
    "\n",
    "#     else:  # typo_choice == \"replace\"\n",
    "#         idx = random.randint(0, len(word) - 1)\n",
    "#         return word[:idx] + random.choice(string.ascii_lowercase) + word[idx + 1:]\n",
    "\n",
    "# # Generate synthetic autocorrect dataset\n",
    "# num_entries = 100000\n",
    "# correct_words = [\"apple\", \"banana\", \"orange\", \"grape\", \"cherry\", \"peach\", \"pear\", \"watermelon\", \"strawberry\", \"blueberry\",\n",
    "#                  \"mango\", \"pineapple\", \"kiwi\", \"plum\", \"apricot\", \"pomegranate\", \"raspberry\", \"blackberry\", \"melon\",\n",
    "#                  \"lemon\", \"lime\", \"coconut\", \"avocado\", \"guava\", \"fig\", \"nectarine\", \"papaya\", \"cantaloupe\", \"cranberry\",\n",
    "#                  \"date\", \"dragonfruit\", \"elderberry\", \"gooseberry\", \"kiwifruit\", \"mangosteen\", \"passionfruit\", \"persimmon\",\n",
    "#                  \"rhubarb\", \"tangerine\", \"boysenberry\", \"currant\", \"mulberry\", \"loganberry\", \"starfruit\", \"grapefruit\",]\n",
    "\n",
    "# misspelled_words = []\n",
    "# corrected_words = []\n",
    "\n",
    "# for _ in range(num_entries):\n",
    "#     correct_word = random.choice(correct_words)\n",
    "#     misspelled_word = introduce_typos(correct_word)\n",
    "#     misspelled_words.append(misspelled_word)\n",
    "#     corrected_words.append(correct_word)\n",
    "\n",
    "# # Create a DataFrame for the dataset\n",
    "# synthetic_dataset = pd.DataFrame({\"Mispelled\": misspelled_words, \"Correct\": corrected_words})\n",
    "\n",
    "# # Save the dataset to a CSV file\n",
    "# synthetic_dataset.to_csv(\"dataset.csv\", index=False)\n"
   ]
  },
  {
   "cell_type": "code",
   "execution_count": 5,
   "id": "d08ab204",
   "metadata": {},
   "outputs": [
    {
     "ename": "NameError",
     "evalue": "name 'model' is not defined",
     "output_type": "error",
     "traceback": [
      "\u001b[1;31m---------------------------------------------------------------------------\u001b[0m",
      "\u001b[1;31mNameError\u001b[0m                                 Traceback (most recent call last)",
      "Cell \u001b[1;32mIn[5], line 2\u001b[0m\n\u001b[0;32m      1\u001b[0m \u001b[39mfrom\u001b[39;00m \u001b[39mjoblib\u001b[39;00m \u001b[39mimport\u001b[39;00m dump\n\u001b[1;32m----> 2\u001b[0m dump(model,\u001b[39m'\u001b[39m\u001b[39mmodel.joblib\u001b[39m\u001b[39m'\u001b[39m)\n",
      "\u001b[1;31mNameError\u001b[0m: name 'model' is not defined"
     ]
    }
   ],
   "source": [
    "from joblib import dump\n",
    "dump(model,'model.joblib')"
   ]
  }
 ],
 "metadata": {
  "kernelspec": {
   "display_name": "Python 3 (ipykernel)",
   "language": "python",
   "name": "python3"
  },
  "language_info": {
   "codemirror_mode": {
    "name": "ipython",
    "version": 3
   },
   "file_extension": ".py",
   "mimetype": "text/x-python",
   "name": "python",
   "nbconvert_exporter": "python",
   "pygments_lexer": "ipython3",
   "version": "3.9.13"
  }
 },
 "nbformat": 4,
 "nbformat_minor": 5
}
